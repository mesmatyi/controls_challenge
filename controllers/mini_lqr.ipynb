{
 "cells": [
  {
   "cell_type": "code",
   "execution_count": 1,
   "metadata": {},
   "outputs": [],
   "source": [
    "import numpy as np\n",
    "import scipy.linalg as la\n",
    "import math"
   ]
  },
  {
   "cell_type": "code",
   "execution_count": 2,
   "metadata": {},
   "outputs": [],
   "source": [
    "def solve_DARE(A, B, Q, R):\n",
    "    \"\"\"\n",
    "    solve a discrete time_Algebraic Riccati equation (DARE)\n",
    "    \"\"\"\n",
    "    X = Q\n",
    "    Xn = Q\n",
    "    max_iter = 150\n",
    "    eps = 0.01\n",
    "\n",
    "    for i in range(max_iter):\n",
    "        Xn = A.T @ X @ A - A.T @ X @ B @ \\\n",
    "            la.inv(R + B.T @ X @ B) @ B.T @ X @ A + Q\n",
    "        if (abs(Xn - X)).max() < eps:\n",
    "            break\n",
    "        X = Xn\n",
    "\n",
    "    return Xn\n",
    "\n",
    "\n",
    "def dlqr(A, B, Q, R):\n",
    "    \"\"\"Solve the discrete time lqr controller.\n",
    "    x[k+1] = A x[k] + B u[k]\n",
    "    cost = sum x[k].T*Q*x[k] + u[k].T*R*u[k]\n",
    "    # ref Bertsekas, p.151\n",
    "    \"\"\"\n",
    "\n",
    "    # first, try to solve the ricatti equation\n",
    "    X = solve_DARE(A, B, Q, R)\n",
    "\n",
    "    print(\"X: \", X)\n",
    "\n",
    "    # compute the LQR gain\n",
    "    K = la.inv(B.T @ X @ B + R) @ (B.T @ X @ A)\n",
    "\n",
    "    eigVals, eigVecs = la.eig(A - B @ K)\n",
    "\n",
    "    return K, X, eigVals"
   ]
  },
  {
   "cell_type": "code",
   "execution_count": 3,
   "metadata": {},
   "outputs": [],
   "source": [
    "v = 3.8\n",
    "L = 2.5\n",
    "dt = 0.1\n",
    "\n",
    "e = 0.1\n",
    "pe = 0.11\n",
    "th_e = 0.1\n",
    "pth_e = 0.11\n",
    "\n",
    "# LQR parameter\n",
    "Q = np.eye(4)\n",
    "R = np.eye(1)"
   ]
  },
  {
   "cell_type": "code",
   "execution_count": 5,
   "metadata": {},
   "outputs": [
    {
     "name": "stdout",
     "output_type": "stream",
     "text": [
      "X:  [[ 16.07489781   1.50748978  20.04334124   1.46948801]\n",
      " [  1.50748978   1.15074898   2.00433412   0.1469488 ]\n",
      " [ 20.04334124   2.00433412 101.78053648   7.87240668]\n",
      " [  1.46948801   0.1469488    7.87240668   1.73140012]]\n",
      "[[0.44670409 0.04467041 2.56285061 0.23931031]]\n"
     ]
    },
    {
     "data": {
      "text/plain": [
       "array([[-0.2725574]])"
      ]
     },
     "execution_count": 5,
     "metadata": {},
     "output_type": "execute_result"
    }
   ],
   "source": [
    "A = np.zeros((4, 4))\n",
    "A[0, 0] = 1.0\n",
    "A[0, 1] = dt\n",
    "A[1, 2] = v\n",
    "A[2, 2] = 1.0\n",
    "A[2, 3] = dt\n",
    "# print(A)\n",
    "\n",
    "B = np.zeros((4, 1))\n",
    "B[3, 0] = v / L\n",
    "\n",
    "K, _, _ = dlqr(A, B, Q, R)\n",
    "\n",
    "x = np.zeros((4, 1))\n",
    "\n",
    "x[0, 0] = e\n",
    "x[1, 0] = (e - pe) / dt\n",
    "x[2, 0] = th_e\n",
    "x[3, 0] = (th_e - pth_e) / dt\n",
    "\n",
    "print(K)\n",
    "(-K @ x)\n"
   ]
  }
 ],
 "metadata": {
  "kernelspec": {
   "display_name": "Python 3",
   "language": "python",
   "name": "python3"
  },
  "language_info": {
   "codemirror_mode": {
    "name": "ipython",
    "version": 3
   },
   "file_extension": ".py",
   "mimetype": "text/x-python",
   "name": "python",
   "nbconvert_exporter": "python",
   "pygments_lexer": "ipython3",
   "version": "3.10.12"
  }
 },
 "nbformat": 4,
 "nbformat_minor": 2
}
